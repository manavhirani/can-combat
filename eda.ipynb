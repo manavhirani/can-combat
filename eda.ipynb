{
 "cells": [
  {
   "cell_type": "code",
   "execution_count": 2,
   "metadata": {},
   "outputs": [],
   "source": [
    "import pandas as pd"
   ]
  },
  {
   "cell_type": "code",
   "execution_count": 4,
   "metadata": {},
   "outputs": [],
   "source": [
    "import os\n",
    "\n",
    "# See the 4 txt files in \"./CAN Intrusion Dataset/\"\n",
    "\n",
    "filenames = []\n",
    "\n",
    "# Print it to the console\n",
    "for filename in os.listdir(\"./CAN Intrusion Dataset/\"):\n",
    "    filenames.append(filename)"
   ]
  },
  {
   "cell_type": "code",
   "execution_count": 5,
   "metadata": {},
   "outputs": [
    {
     "name": "stdout",
     "output_type": "stream",
     "text": [
      "DoS_attack_dataset.txt\n",
      "Attack_free_dataset.txt\n",
      "Fuzzy_attack_dataset.txt\n",
      "Impersonation_attack_dataset.txt\n"
     ]
    }
   ],
   "source": [
    "for filename in filenames:\n",
    "    print(filename)"
   ]
  },
  {
   "cell_type": "code",
   "execution_count": 8,
   "metadata": {},
   "outputs": [
    {
     "name": "stdout",
     "output_type": "stream",
     "text": [
      "Timestamp:          0.000000        ID: 0000    000    DLC: 8    00 00 00 00 00 00 00 00\n",
      "\n",
      "['Timestamp:', '0.000000', 'ID:', '0000', '000', 'DLC:', '8', '00', '00', '00', '00', '00', '00', '00', '00']\n"
     ]
    }
   ],
   "source": [
    "\"\"\"\n",
    "Timestamp:          0.000000        ID: 0316    000    DLC: 8    05 20 ea 0a 20 1a 00 7f\n",
    "Timestamp:          0.000224        ID: 0329    000    DLC: 8    d7 a7 7f 8c 11 2f 00 10\n",
    "Timestamp:          0.000462        ID: 0080    000    DLC: 8    00 17 ea 0a 20 1a 20 43\n",
    "Timestamp:          0.000704        ID: 0081    000    DLC: 8    7f 84 60 00 00 00 00 53\n",
    "Timestamp:          0.000878        ID: 0120    000    DLC: 4    00 00 00 00\n",
    "Timestamp:          0.001115        ID: 0153    000    DLC: 8    00 80 10 ff 00 ff 40 ce\n",
    "Timestamp:          0.001366        ID: 018f    000    DLC: 8    00 29 20 00 00 45 00 00\n",
    "Timestamp:          0.001600        ID: 0220    000    DLC: 8    ec 03 02 04 0c 00 35 10\n",
    "\"\"\"\n",
    "\n",
    "# This is the first few lines of the txt file\n",
    "\n",
    "# We can see that the data is separated by spaces\n",
    "# It's in the format of:\n",
    "# Timestamp:          0.000000        ID: 0316    000    DLC: 8    05 20 ea 0a 20 1a 00 7f\n",
    "# To extract the data, we can use the split() function\n",
    "\n",
    "# Let's try for the first files first line\n",
    "with open(\"./CAN Intrusion Dataset/\" + filenames[0]) as f:\n",
    "    first_line = f.readline()\n",
    "    print(first_line)\n",
    "    print(first_line.split())\n",
    "    "
   ]
  },
  {
   "cell_type": "code",
   "execution_count": null,
   "metadata": {},
   "outputs": [],
   "source": []
  }
 ],
 "metadata": {
  "kernelspec": {
   "display_name": "ml",
   "language": "python",
   "name": "python3"
  },
  "language_info": {
   "codemirror_mode": {
    "name": "ipython",
    "version": 3
   },
   "file_extension": ".py",
   "mimetype": "text/x-python",
   "name": "python",
   "nbconvert_exporter": "python",
   "pygments_lexer": "ipython3",
   "version": "3.10.10"
  }
 },
 "nbformat": 4,
 "nbformat_minor": 2
}
